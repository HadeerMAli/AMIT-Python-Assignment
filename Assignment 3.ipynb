{
 "cells": [
  {
   "cell_type": "markdown",
   "metadata": {},
   "source": [
    "# Assignment 3"
   ]
  },
  {
   "cell_type": "markdown",
   "metadata": {},
   "source": [
    "### Write a function to count the number 4 in a given list."
   ]
  },
  {
   "cell_type": "code",
   "execution_count": 3,
   "metadata": {},
   "outputs": [
    {
     "name": "stdout",
     "output_type": "stream",
     "text": [
      "6\n",
      "2\n"
     ]
    }
   ],
   "source": [
    "def lst_4(nums):\n",
    "    count = 0  \n",
    "    for num in nums:\n",
    "        if num == 4:\n",
    "            count += 1\n",
    "\n",
    "    return count\n",
    "\n",
    "print(lst_4([4,4,6,9,8,2,4,4,5,6,5,4,1,4]))\n",
    "print(lst_4([9,4,6,4,8,5]))"
   ]
  },
  {
   "cell_type": "markdown",
   "metadata": {},
   "source": [
    "### write a  function to check whether a number is divisible by another number."
   ]
  },
  {
   "cell_type": "code",
   "execution_count": 4,
   "metadata": {},
   "outputs": [
    {
     "name": "stdout",
     "output_type": "stream",
     "text": [
      "True\n",
      "False\n"
     ]
    }
   ],
   "source": [
    "def div (x, y):\n",
    "    return True if x % y == 0 else False\n",
    "\n",
    "print(div(60, 12))\n",
    "print(div(9, 2))"
   ]
  },
  {
   "cell_type": "markdown",
   "metadata": {},
   "source": [
    "### write a function to find the maximum and minimum numbers from a sequence of numbers."
   ]
  },
  {
   "cell_type": "code",
   "execution_count": 5,
   "metadata": {},
   "outputs": [
    {
     "name": "stdout",
     "output_type": "stream",
     "text": [
      "(60, -30)\n"
     ]
    }
   ],
   "source": [
    "def max_min(data):\n",
    "    large = data[0]\n",
    "    small = data[0]\n",
    "    for num in data:\n",
    "            if num> large:\n",
    "                large = num\n",
    "            elif num< small:\n",
    "                small = num\n",
    "    return large, small\n",
    "\n",
    "print(max_min([1,2,8,16,-9,60,-30,40,0]))"
   ]
  },
  {
   "cell_type": "markdown",
   "metadata": {},
   "source": [
    "### Write a Python function that takes two lists and returns True if they have at least one common member."
   ]
  },
  {
   "cell_type": "code",
   "execution_count": 6,
   "metadata": {},
   "outputs": [
    {
     "name": "stdout",
     "output_type": "stream",
     "text": [
      "True\n",
      "False\n"
     ]
    }
   ],
   "source": [
    "def common_data(list1, list2):\n",
    "    result = False\n",
    "    for x in list1:\n",
    "        for y in list2:\n",
    "             if x == y:\n",
    "                result = True\n",
    "    return result\n",
    "            \n",
    "print(common_data([-1,2,6,9,10], [10,11,19,16]))\n",
    "print(common_data([1,2], [3,4,5,6]))"
   ]
  },
  {
   "cell_type": "markdown",
   "metadata": {},
   "source": [
    "### Write a Python function to calculate the factorial of a number (a non-negative integer). The function accepts the number from the user"
   ]
  },
  {
   "cell_type": "code",
   "execution_count": 10,
   "metadata": {},
   "outputs": [
    {
     "name": "stdout",
     "output_type": "stream",
     "text": [
      "Input your number: 9\n",
      "362880\n"
     ]
    }
   ],
   "source": [
    "def factorial(num):\n",
    "    if num == 0:\n",
    "        return 1\n",
    "    elif num < 0 :\n",
    "        print(\"Please Enter A Positive Number\")\n",
    "    else:\n",
    "        return num * factorial(num-1)\n",
    "    \n",
    "try:\n",
    "    num =int(input(\"Input your number: \"))\n",
    "except ValueError as e:\n",
    "    print (\"You entered a letter, Please enter a valid number\")\n",
    "    \n",
    "print(factorial(num))"
   ]
  },
  {
   "cell_type": "code",
   "execution_count": 11,
   "metadata": {},
   "outputs": [
    {
     "name": "stdout",
     "output_type": "stream",
     "text": [
      "Input your number: k\n",
      "You entered a letter, Please enter a valid number\n",
      "362880\n"
     ]
    }
   ],
   "source": [
    "def factorial(num):\n",
    "    if num == 0:\n",
    "        return 1\n",
    "    elif num < 0 :\n",
    "        print(\"Please Enter A Positive Number\")\n",
    "    else:\n",
    "        return num * factorial(num-1)\n",
    "    \n",
    "try:\n",
    "    num =int(input(\"Input your number: \"))\n",
    "except ValueError as e:\n",
    "    print (\"You entered a letter, Please enter a valid number\")\n",
    "    \n",
    "print(factorial(num))"
   ]
  },
  {
   "cell_type": "code",
   "execution_count": 12,
   "metadata": {},
   "outputs": [
    {
     "name": "stdout",
     "output_type": "stream",
     "text": [
      "Input your number: -9\n",
      "Please Enter A Positive Number\n",
      "None\n"
     ]
    }
   ],
   "source": [
    "def factorial(num):\n",
    "    if num == 0:\n",
    "        return 1\n",
    "    elif num < 0 :\n",
    "        print(\"Please Enter A Positive Number\")\n",
    "    else:\n",
    "        return num * factorial(num-1)\n",
    "    \n",
    "try:\n",
    "    num =int(input(\"Input your number: \"))\n",
    "except ValueError as e:\n",
    "    print (\"You entered a letter, Please enter a valid number\")\n",
    "    \n",
    "print(factorial(num))"
   ]
  },
  {
   "cell_type": "markdown",
   "metadata": {},
   "source": [
    "### Write a Python function to check whether a number is in a given range.\n",
    "\n",
    "### The range is from 3 to 11\n"
   ]
  },
  {
   "cell_type": "code",
   "execution_count": 15,
   "metadata": {},
   "outputs": [
    {
     "name": "stdout",
     "output_type": "stream",
     "text": [
      "Enter a number : 6\n",
      "6  is in the range\n"
     ]
    }
   ],
   "source": [
    "def test_range(num):\n",
    "    if num in range(3,11):\n",
    "        print( num,\" is in the range\")\n",
    "    else :\n",
    "        print(\"The number is outside the given range.\")\n",
    "    \n",
    "\n",
    "num = int(input('Enter a number : '))\n",
    "test_range(num)"
   ]
  },
  {
   "cell_type": "code",
   "execution_count": 16,
   "metadata": {},
   "outputs": [
    {
     "name": "stdout",
     "output_type": "stream",
     "text": [
      "Enter a number : 20\n",
      "The number is outside the given range.\n"
     ]
    }
   ],
   "source": [
    "def test_range(num):\n",
    "    if num in range(3,11):\n",
    "        print( num,\" is in the range\")\n",
    "    else :\n",
    "        print(\"The number is outside the given range.\")\n",
    "    \n",
    "\n",
    "num = int(input('Enter a number : '))\n",
    "test_range(num)"
   ]
  },
  {
   "cell_type": "markdown",
   "metadata": {},
   "source": [
    "### Write a  program to create the multiplication table (from 1 to 10) of a number."
   ]
  },
  {
   "cell_type": "code",
   "execution_count": 17,
   "metadata": {},
   "outputs": [
    {
     "name": "stdout",
     "output_type": "stream",
     "text": [
      "Input a number: 7\n",
      "7 x 1 = 7\n",
      "7 x 2 = 14\n",
      "7 x 3 = 21\n",
      "7 x 4 = 28\n",
      "7 x 5 = 35\n",
      "7 x 6 = 42\n",
      "7 x 7 = 49\n",
      "7 x 8 = 56\n",
      "7 x 9 = 63\n",
      "7 x 10 = 70\n"
     ]
    }
   ],
   "source": [
    "num = int(input(\"Input a number: \"))\n",
    "\n",
    "\n",
    "for i in range(1,11):\n",
    "    print(num,'x',i,'=',num*i)"
   ]
  },
  {
   "cell_type": "markdown",
   "metadata": {},
   "source": [
    "#### LESSER OF TWO EVENS: Write a function that returns the lesser of two given numbers *if* both numbers are even, but returns the greater if one or both numbers are odd\n",
    "    lesser_of_two_evens(2,4) --> 2\n",
    "    lesser_of_two_evens(2,5) --> 5"
   ]
  },
  {
   "cell_type": "code",
   "execution_count": 3,
   "metadata": {},
   "outputs": [
    {
     "name": "stdout",
     "output_type": "stream",
     "text": [
      "5\n",
      "2\n"
     ]
    }
   ],
   "source": [
    "def lesser_of_two_evens(a,b):\n",
    "    if a%2==0 and b%2==0:\n",
    "          return min(a,b)\n",
    "    else:\n",
    "        return max(a,b)\n",
    "\n",
    "x=lesser_of_two_evens(2,5)\n",
    "y=lesser_of_two_evens(2,4)\n",
    "print (x)\n",
    "print (y)"
   ]
  },
  {
   "cell_type": "markdown",
   "metadata": {},
   "source": [
    "#### ANIMAL CRACKERS: Write a function takes a two-word string and returns True if both words begin with same letter\n",
    "    animal_crackers('Levelheaded Llama') --> True\n",
    "    animal_crackers('Crazy Kangaroo') --> False"
   ]
  },
  {
   "cell_type": "code",
   "execution_count": 4,
   "metadata": {},
   "outputs": [
    {
     "name": "stdout",
     "output_type": "stream",
     "text": [
      "True\n",
      "False\n"
     ]
    }
   ],
   "source": [
    "def animal_crackers(text):\n",
    "    wordlist =text.split()\n",
    "    return wordlist [0][0] == wordlist[1][0]\n",
    "\n",
    "x=animal_crackers('Levelheaded Llama')\n",
    "y=animal_crackers('Crazy Kangaroo')\n",
    "\n",
    "print (x)\n",
    "print (y)"
   ]
  },
  {
   "cell_type": "markdown",
   "metadata": {},
   "source": [
    "#### MAKES TWENTY: Given two integers, return True if the sum of the integers is 20 *or* if one of the integers is 20. If not, return False\n",
    "\n",
    "    makes_twenty(20,10) --> True\n",
    "    makes_twenty(12,8) --> True\n",
    "    makes_twenty(2,3) --> False"
   ]
  },
  {
   "cell_type": "code",
   "execution_count": 7,
   "metadata": {},
   "outputs": [
    {
     "name": "stdout",
     "output_type": "stream",
     "text": [
      "True\n",
      "True\n",
      "False\n"
     ]
    }
   ],
   "source": [
    "def makes_twenty(a,b):\n",
    "    if a == 20 or b == 20 or (a+b)== 20:\n",
    "        return True\n",
    "    else:\n",
    "        return False\n",
    "    \n",
    "print (makes_twenty(20,10)) \n",
    "print(makes_twenty(12,8))\n",
    "print(makes_twenty(2,3))  "
   ]
  },
  {
   "cell_type": "markdown",
   "metadata": {},
   "source": [
    "#### ALMOST THERE: Given an integer n, return True if n is within 10 of either 100 or 200\n",
    "\n",
    "    almost_there(90) --> True\n",
    "    almost_there(104) --> True\n",
    "    almost_there(150) --> False\n",
    "    almost_there(209) --> True\n",
    "    \n",
    "NOTE: `abs(num)` returns the absolute value of a number"
   ]
  },
  {
   "cell_type": "code",
   "execution_count": 8,
   "metadata": {},
   "outputs": [
    {
     "name": "stdout",
     "output_type": "stream",
     "text": [
      "True True False True\n"
     ]
    }
   ],
   "source": [
    "def almost_there(n):\n",
    "    return ((abs(100 - n) <= 10) or (abs(200 - n) <= 10))\n",
    "\n",
    "print (\n",
    "almost_there(90), \n",
    "almost_there(104), \n",
    "almost_there(150), \n",
    "almost_there(209),\n",
    ")"
   ]
  },
  {
   "cell_type": "markdown",
   "metadata": {},
   "source": [
    "#### BLACKJACK: Given three integers between 1 and 11, if their sum is less than or equal to 21, return their sum. If their sum exceeds 21 *and* there's an eleven, reduce the total sum by 10. Finally, if the sum  exceeds 21, return 'BUST'\n",
    "    blackjack(5,6,7) --> 18\n",
    "    blackjack(9,9,9) --> 'BUST'\n",
    "    blackjack(9,9,11) --> 19"
   ]
  },
  {
   "cell_type": "code",
   "execution_count": 5,
   "metadata": {},
   "outputs": [
    {
     "name": "stdout",
     "output_type": "stream",
     "text": [
      "18\n",
      "BUST\n",
      "19\n"
     ]
    }
   ],
   "source": [
    "def blackjack(a, b, c):\n",
    "    sum = a + b + c\n",
    "    if sum <= 21:\n",
    "        return sum\n",
    "    elif sum > 21:\n",
    "        if a == 11 or b == 11 or c == 11:\n",
    "            return sum-10\n",
    "        else:\n",
    "            return 'BUST'\n",
    "\n",
    "print(blackjack(5,6,7)) \n",
    "print(blackjack(9,9,9)) \n",
    "print(blackjack(9,9,11))"
   ]
  },
  {
   "cell_type": "code",
   "execution_count": null,
   "metadata": {},
   "outputs": [],
   "source": []
  }
 ],
 "metadata": {
  "kernelspec": {
   "display_name": "Python 3",
   "language": "python",
   "name": "python3"
  },
  "language_info": {
   "codemirror_mode": {
    "name": "ipython",
    "version": 3
   },
   "file_extension": ".py",
   "mimetype": "text/x-python",
   "name": "python",
   "nbconvert_exporter": "python",
   "pygments_lexer": "ipython3",
   "version": "3.8.3"
  }
 },
 "nbformat": 4,
 "nbformat_minor": 2
}
